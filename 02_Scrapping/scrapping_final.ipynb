{
 "cells": [
  {
   "cell_type": "markdown",
   "metadata": {},
   "source": [
    "## Requirements"
   ]
  },
  {
   "cell_type": "code",
   "execution_count": 2,
   "metadata": {},
   "outputs": [],
   "source": [
    "import requests\n",
    "import pandas as pd\n",
    "from bs4 import BeautifulSoup"
   ]
  },
  {
   "cell_type": "markdown",
   "metadata": {},
   "source": [
    "## Get Abstracts urls"
   ]
  },
  {
   "cell_type": "code",
   "execution_count": 3,
   "metadata": {},
   "outputs": [],
   "source": [
    "url = \"https://arxiv.org/list/astro-ph.SR/new\"\n",
    "res = requests.get(url)\n",
    "soup = BeautifulSoup(res.text, 'html.parser')"
   ]
  },
  {
   "cell_type": "code",
   "execution_count": 4,
   "metadata": {},
   "outputs": [],
   "source": [
    "links = list()\n",
    "items = soup.find_all('dt')\n",
    "for item in items:\n",
    "    link = item.find_all('a', href=True)[0]['href']\n",
    "    links.append(f'https://arxiv.org{link}')"
   ]
  },
  {
   "cell_type": "markdown",
   "metadata": {},
   "source": [
    "## Scrapping from urls"
   ]
  },
  {
   "cell_type": "code",
   "execution_count": 13,
   "metadata": {},
   "outputs": [],
   "source": [
    "dict_art = {\n",
    "    'title': [],\n",
    "    'authors':[],\n",
    "    'comment':[],\n",
    "    'subjects':[],\n",
    "    'abstract':[]\n",
    "}"
   ]
  },
  {
   "cell_type": "code",
   "execution_count": 14,
   "metadata": {},
   "outputs": [],
   "source": [
    "for link in links:\n",
    "    res = requests.get(link)\n",
    "    soup = BeautifulSoup(res.text, 'html.parser')\n",
    "\n",
    "    # Title\n",
    "    title = soup.findAll('h1', {\"class\":\"title mathjax\"})[0].text\n",
    "    title = title.split('Title:')[1].strip()\n",
    "\n",
    "    dict_art['title'].append(title)\n",
    "\n",
    "    # Authors\n",
    "    authors = soup.findAll('div', {\"class\":\"authors\"})[0].find_all('a')\n",
    "    authors_list = list()\n",
    "    for author in authors:\n",
    "        authors_list.append(author.text)\n",
    "\n",
    "    dict_art['authors'].append(authors_list)\n",
    "\n",
    "    meta = soup.findAll('tr')\n",
    "\n",
    "    if len(meta)<5:\n",
    "        dict_art['comment'].append(None)\n",
    "\n",
    "        subjects = soup.findAll('tr')[0].find_all('td')\n",
    "        if subjects[0].text == \"Subjects:\":\n",
    "            dict_art['subjects'].append(subjects[1].text.replace('\\n',''))\n",
    "        else: \n",
    "            dict_art['subjects'].append(None)\n",
    "    else:\n",
    "        comments = soup.findAll('tr')[0].find_all('td')\n",
    "        if comments[0].text == \"Comments:\":\n",
    "            dict_art['comment'].append(comments[1].text)\n",
    "        else: \n",
    "            dict_art['comment'].append(None)\n",
    "        \n",
    "        # Subjects\n",
    "        subjects = soup.findAll('tr')[1].find_all('td')\n",
    "        if subjects[0].text == \"Subjects:\":\n",
    "            dict_art['subjects'].append(subjects[1].text.replace('\\n',''))\n",
    "        else: \n",
    "            dict_art['subjects'].append(None)\n",
    "\n",
    "    # Subjects\n",
    "    abstract = soup.findAll('blockquote', {\"class\":\"abstract mathjax\"})[0].text\n",
    "    abstract = abstract.replace('\\n', '').split('Abstract:  ')[1].strip()\n",
    "    dict_art['abstract'].append(abstract)\n"
   ]
  },
  {
   "cell_type": "code",
   "execution_count": 16,
   "metadata": {},
   "outputs": [],
   "source": [
    "df = pd.DataFrame.from_dict(dict_art, orient='index').T"
   ]
  },
  {
   "cell_type": "code",
   "execution_count": 20,
   "metadata": {},
   "outputs": [
    {
     "data": {
      "text/plain": [
       "0     [Kareem El-Badry, Hans-Walter Rix, Yvette Cend...\n",
       "1      [Philippe Z. Yao, Eliot Quataert, Andy Goulding]\n",
       "2     [M. Lafarga, I. Ribas, M. Zechmeister, A. Rein...\n",
       "3                                   [A. Ali, A. Mindil]\n",
       "4     [E. Antonucci, C. Downs, G. E. Capuano, D. Spa...\n",
       "5                 [M. Kriginsky, R. Oliver, D. Kuridze]\n",
       "6                     [Gregory W. Henry, Jacob L. Bean]\n",
       "7     [Niall Whiteford, Alistair Glasse, Katy L. Chu...\n",
       "8     [Viraj Manwadkar, Alessandro Alberto Trani, Ba...\n",
       "9     [Sven Kiefer, David Gobrecht, Leen Decin, Chri...\n",
       "10    [Omkar Dhamane, Anil Raghav, Zubair Shaikh, Ut...\n",
       "11    [Florian Kirchschlager, Franziska D. Schmidt, ...\n",
       "12        [Markus J. Aschwanden, Nived Vilangot Nhalil]\n",
       "13    [P. Beniamini, Z. Wadiasingh, J. Hare, K. Rajw...\n",
       "14            [Justin Kin Jun Hew, Christoph Federrath]\n",
       "15                                 [Janosz W. Dewberry]\n",
       "16    [H. Barzegar, M. Bigdeli, G. H. Bordbar, B. Es...\n",
       "Name: authors, dtype: object"
      ]
     },
     "execution_count": 20,
     "metadata": {},
     "output_type": "execute_result"
    }
   ],
   "source": [
    "df.authors"
   ]
  },
  {
   "cell_type": "code",
   "execution_count": 21,
   "metadata": {},
   "outputs": [],
   "source": [
    "df['nb_of_aut'] = df.authors.apply(len)\n",
    "df.to_csv(\"\")"
   ]
  },
  {
   "cell_type": "code",
   "execution_count": null,
   "metadata": {},
   "outputs": [],
   "source": []
  }
 ],
 "metadata": {
  "kernelspec": {
   "display_name": "Python 3.10.8 ('venv': venv)",
   "language": "python",
   "name": "python3"
  },
  "language_info": {
   "codemirror_mode": {
    "name": "ipython",
    "version": 3
   },
   "file_extension": ".py",
   "mimetype": "text/x-python",
   "name": "python",
   "nbconvert_exporter": "python",
   "pygments_lexer": "ipython3",
   "version": "3.10.8"
  },
  "orig_nbformat": 4,
  "vscode": {
   "interpreter": {
    "hash": "98a1b2087f69d1ce7616567ade31da89bf4465c943847a36cab77df4090542ec"
   }
  }
 },
 "nbformat": 4,
 "nbformat_minor": 2
}
