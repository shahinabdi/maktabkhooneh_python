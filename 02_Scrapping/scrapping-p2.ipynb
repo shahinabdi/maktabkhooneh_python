{
 "cells": [
  {
   "cell_type": "code",
   "execution_count": 1,
   "metadata": {},
   "outputs": [],
   "source": [
    "import requests\n",
    "import pandas as pd\n",
    "from bs4 import BeautifulSoup"
   ]
  },
  {
   "cell_type": "code",
   "execution_count": 2,
   "metadata": {},
   "outputs": [],
   "source": [
    "url = \"https://arxiv.org/list/astro-ph.SR/new\"\n",
    "res = requests.get(url)\n",
    "soup = BeautifulSoup(res.text, 'html.parser')"
   ]
  },
  {
   "cell_type": "code",
   "execution_count": 14,
   "metadata": {},
   "outputs": [],
   "source": [
    "links = list()\n",
    "items = soup.find_all('dt')\n",
    "for item in items:\n",
    "    link = item.find_all('a', href=True)[0]['href']\n",
    "    links.append(f'https://arxiv.org{link}')"
   ]
  },
  {
   "cell_type": "code",
   "execution_count": 15,
   "metadata": {},
   "outputs": [
    {
     "data": {
      "text/plain": [
       "['https://arxiv.org/abs/2302.07880',\n",
       " 'https://arxiv.org/abs/2302.07886',\n",
       " 'https://arxiv.org/abs/2302.07916',\n",
       " 'https://arxiv.org/abs/2302.08008',\n",
       " 'https://arxiv.org/abs/2302.08385',\n",
       " 'https://arxiv.org/abs/2302.08457',\n",
       " 'https://arxiv.org/abs/2302.07874',\n",
       " 'https://arxiv.org/abs/2302.07939',\n",
       " 'https://arxiv.org/abs/2302.08312',\n",
       " 'https://arxiv.org/abs/2302.08358',\n",
       " 'https://arxiv.org/abs/2209.04682',\n",
       " 'https://arxiv.org/abs/2210.06763',\n",
       " 'https://arxiv.org/abs/2211.08323',\n",
       " 'https://arxiv.org/abs/2210.09323',\n",
       " 'https://arxiv.org/abs/2301.06033',\n",
       " 'https://arxiv.org/abs/2301.07097',\n",
       " 'https://arxiv.org/abs/2302.02433']"
      ]
     },
     "execution_count": 15,
     "metadata": {},
     "output_type": "execute_result"
    }
   ],
   "source": [
    "links"
   ]
  },
  {
   "cell_type": "code",
   "execution_count": 68,
   "metadata": {},
   "outputs": [],
   "source": [
    "res = requests.get(links[0])"
   ]
  },
  {
   "cell_type": "code",
   "execution_count": 69,
   "metadata": {},
   "outputs": [],
   "source": [
    "soup = BeautifulSoup(res.text, 'html.parser')"
   ]
  },
  {
   "cell_type": "code",
   "execution_count": 70,
   "metadata": {},
   "outputs": [
    {
     "data": {
      "text/plain": [
       "'A red giant orbiting a black hole'"
      ]
     },
     "execution_count": 70,
     "metadata": {},
     "output_type": "execute_result"
    }
   ],
   "source": [
    "title = soup.findAll('h1', {\"class\":\"title mathjax\"})[0].text\n",
    "title.split('Title:')[1].strip()"
   ]
  },
  {
   "cell_type": "code",
   "execution_count": 71,
   "metadata": {},
   "outputs": [],
   "source": [
    "authors = soup.findAll('div', {\"class\":\"authors\"})[0].find_all('a')\n",
    "authors_list = list()\n",
    "for author in authors:\n",
    "    authors_list.append(author.text)"
   ]
  },
  {
   "cell_type": "code",
   "execution_count": 72,
   "metadata": {},
   "outputs": [
    {
     "data": {
      "text/plain": [
       "\"We report spectroscopic and photometric follow-up of a dormant black hole(BH) candidate from Gaia DR3. We show that the system, which we call Gaia BH2,contains a $\\\\sim 1M_{\\\\odot}$ red giant and a dark companion with mass $M_2 =8.9\\\\pm 0.3\\\\,M_{\\\\odot}$ that is very likely a BH. The orbital period, $P_{\\\\rmorb} = 1277$ days, is much longer than that of any previously studied BHbinary. Our radial velocity (RV) follow-up over a 6-month period spans most ofthe orbit's dynamic range in RV and is in excellent agreement with predictionsof the Gaia solution. UV imaging and high-resolution optical spectra rule outall plausible luminous companions that could explain the orbit. The star is abright ($G=12.3$), slightly metal-poor ($\\\\rm [Fe/H]=-0.22$) low-luminositygiant ($T_{\\\\rm eff}=4600\\\\,\\\\rm K$; $R = 7.9\\\\,R_{\\\\odot}$; $\\\\log\\\\left[g/\\\\left({\\\\rmcm\\\\,s^{-2}}\\\\right)\\\\right] = 2.6$). The binary's orbit is moderately eccentric($e=0.52$). The giant is strongly enhanced in $\\\\alpha-$elements, with $\\\\rm[\\\\alpha/Fe] = +0.26$, but the system's Galactocentric orbit is typical of thethin disk. We obtained X-ray and radio nondetections of the source nearperiastron, which support BH accretion models in which the net accretion rateat the horizon is much lower than the Bondi-Hoyle-Lyttleton rate. At a distanceof 1.16 kpc, Gaia BH2 is the second-nearest known BH, after Gaia BH1. Its orbit-- like that of Gaia BH1 -- seems too wide to have formed through commonenvelope evolution. Gaia BH1 and BH2 have orbital periods at opposite edges ofthe Gaia DR3 sensitivity curve, perhaps hinting at a bimodal intrinsic perioddistribution for wide BH binaries. Dormant BH binaries like Gaia BH1 and GaiaBH2 likely significantly outnumber their close, X-ray bright cousins, but theirformation pathways remain uncertain.\""
      ]
     },
     "execution_count": 72,
     "metadata": {},
     "output_type": "execute_result"
    }
   ],
   "source": [
    "soup.findAll('blockquote', {\"class\":\"abstract mathjax\"})[0].text.replace('\\n', '').split('Abstract:  ')[1].strip()"
   ]
  },
  {
   "cell_type": "code",
   "execution_count": 85,
   "metadata": {},
   "outputs": [],
   "source": [
    "list_comment=[]\n",
    "comments = soup.findAll('tr')[0].find_all('td')\n",
    "if comments[0].text == \"Comments:\":\n",
    "    list_comment.append(comments[1].text)\n",
    "else: \n",
    "    list_comment.append(None)\n"
   ]
  },
  {
   "cell_type": "code",
   "execution_count": 97,
   "metadata": {},
   "outputs": [
    {
     "data": {
      "text/plain": [
       "['Solar and Stellar Astrophysics (astro-ph.SR); Astrophysics of Galaxies (astro-ph.GA)']"
      ]
     },
     "execution_count": 97,
     "metadata": {},
     "output_type": "execute_result"
    }
   ],
   "source": [
    "list_subjects=[]\n",
    "subjects = soup.findAll('tr')[1].find_all('td')\n",
    "if subjects[0].text == \"Subjects:\":\n",
    "    list_subjects.append(subjects[1].text.replace('\\n',''))\n",
    "else: \n",
    "    list_subjects.append(None)\n",
    "list_subjects"
   ]
  },
  {
   "cell_type": "code",
   "execution_count": null,
   "metadata": {},
   "outputs": [],
   "source": [
    "dict_art = {\n",
    "    'title': [],\n",
    "    'authors':[],\n",
    "    'comment':[],\n",
    "    'subjects':[],\n",
    "    'abstract':[]\n",
    "}"
   ]
  }
 ],
 "metadata": {
  "kernelspec": {
   "display_name": "Python 3.10.8 ('venv': venv)",
   "language": "python",
   "name": "python3"
  },
  "language_info": {
   "codemirror_mode": {
    "name": "ipython",
    "version": 3
   },
   "file_extension": ".py",
   "mimetype": "text/x-python",
   "name": "python",
   "nbconvert_exporter": "python",
   "pygments_lexer": "ipython3",
   "version": "3.10.8"
  },
  "orig_nbformat": 4,
  "vscode": {
   "interpreter": {
    "hash": "98a1b2087f69d1ce7616567ade31da89bf4465c943847a36cab77df4090542ec"
   }
  }
 },
 "nbformat": 4,
 "nbformat_minor": 2
}
