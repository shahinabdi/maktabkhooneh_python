{
 "cells": [
  {
   "cell_type": "code",
   "execution_count": 182,
   "metadata": {},
   "outputs": [],
   "source": [
    "import requests\n",
    "import pandas as pd\n",
    "from bs4 import BeautifulSoup"
   ]
  },
  {
   "cell_type": "code",
   "execution_count": 183,
   "metadata": {},
   "outputs": [],
   "source": [
    "url = \"https://arxiv.org/list/astro-ph.SR/new\""
   ]
  },
  {
   "cell_type": "code",
   "execution_count": 184,
   "metadata": {},
   "outputs": [],
   "source": [
    "res = requests.get(url)"
   ]
  },
  {
   "cell_type": "code",
   "execution_count": 185,
   "metadata": {},
   "outputs": [
    {
     "data": {
      "text/plain": [
       "<Response [200]>"
      ]
     },
     "execution_count": 185,
     "metadata": {},
     "output_type": "execute_result"
    }
   ],
   "source": [
    "res"
   ]
  },
  {
   "cell_type": "code",
   "execution_count": 186,
   "metadata": {},
   "outputs": [],
   "source": [
    "soup = BeautifulSoup(res.text, 'html.parser')"
   ]
  },
  {
   "cell_type": "code",
   "execution_count": 187,
   "metadata": {},
   "outputs": [],
   "source": [
    "items = soup.find_all(\"dd\")"
   ]
  },
  {
   "cell_type": "code",
   "execution_count": 188,
   "metadata": {},
   "outputs": [],
   "source": [
    "art = items[0].text.split('\\n\\n')"
   ]
  },
  {
   "cell_type": "code",
   "execution_count": 189,
   "metadata": {},
   "outputs": [
    {
     "data": {
      "text/plain": [
       "['',\n",
       " '\\nTitle: A red giant orbiting a black hole',\n",
       " '\\nAuthors:\\nKareem El-Badry, \\nHans-Walter Rix, \\nYvette Cendes, \\nAntonio C. Rodriguez, \\nCharlie Conroy, \\nEliot Quataert, \\nKeith Hawkins, \\nEleonora Zari, \\nMelissa Hobson, \\nKatelyn Breivik, \\nArne Rau, \\nEdo Berger, \\nSahar Shahaf, \\nRhys Seeburger, \\nKevin B. Burdge, \\nDavid W. Latham, \\nLars A. Buchhave, \\nAllyson Bieryla, \\nDolev Bashi, \\nTsevi Mazeh, \\nSimchon Faigler',\n",
       " '\\nComments: 22 pages, 15 figures. Submitted to MNRAS',\n",
       " '\\nSubjects: Solar and Stellar Astrophysics (astro-ph.SR); Astrophysics of Galaxies (astro-ph.GA)',\n",
       " \"\\nWe report spectroscopic and photometric follow-up of a dormant black hole\\n(BH) candidate from Gaia DR3. We show that the system, which we call Gaia BH2,\\ncontains a $\\\\sim 1M_{\\\\odot}$ red giant and a dark companion with mass $M_2 =\\n8.9\\\\pm 0.3\\\\,M_{\\\\odot}$ that is very likely a BH. The orbital period, $P_{\\\\rm\\norb} = 1277$ days, is much longer than that of any previously studied BH\\nbinary. Our radial velocity (RV) follow-up over a 6-month period spans most of\\nthe orbit's dynamic range in RV and is in excellent agreement with predictions\\nof the Gaia solution. UV imaging and high-resolution optical spectra rule out\\nall plausible luminous companions that could explain the orbit. The star is a\\nbright ($G=12.3$), slightly metal-poor ($\\\\rm [Fe/H]=-0.22$) low-luminosity\\ngiant ($T_{\\\\rm eff}=4600\\\\,\\\\rm K$; $R = 7.9\\\\,R_{\\\\odot}$; $\\\\log\\\\left[g/\\\\left({\\\\rm\\ncm\\\\,s^{-2}}\\\\right)\\\\right] = 2.6$). The binary's orbit is moderately eccentric\\n($e=0.52$). The giant is strongly enhanced in $\\\\alpha-$elements, with $\\\\rm\\n[\\\\alpha/Fe] = +0.26$, but the system's Galactocentric orbit is typical of the\\nthin disk. We obtained X-ray and radio nondetections of the source near\\nperiastron, which support BH accretion models in which the net accretion rate\\nat the horizon is much lower than the Bondi-Hoyle-Lyttleton rate. At a distance\\nof 1.16 kpc, Gaia BH2 is the second-nearest known BH, after Gaia BH1. Its orbit\\n-- like that of Gaia BH1 -- seems too wide to have formed through common\\nenvelope evolution. Gaia BH1 and BH2 have orbital periods at opposite edges of\\nthe Gaia DR3 sensitivity curve, perhaps hinting at a bimodal intrinsic period\\ndistribution for wide BH binaries. Dormant BH binaries like Gaia BH1 and Gaia\\nBH2 likely significantly outnumber their close, X-ray bright cousins, but their\\nformation pathways remain uncertain.\",\n",
       " '\\n']"
      ]
     },
     "execution_count": 189,
     "metadata": {},
     "output_type": "execute_result"
    }
   ],
   "source": [
    "art"
   ]
  },
  {
   "cell_type": "code",
   "execution_count": 190,
   "metadata": {},
   "outputs": [],
   "source": [
    "title = art[1].split('Title:')[1].strip()"
   ]
  },
  {
   "cell_type": "code",
   "execution_count": 191,
   "metadata": {},
   "outputs": [],
   "source": [
    "authors = art[2].split(\"Authors:\")[1].split('\\n')"
   ]
  },
  {
   "cell_type": "code",
   "execution_count": 192,
   "metadata": {},
   "outputs": [],
   "source": [
    "list_authors = list()\n",
    "for author in authors[1:]:\n",
    "    list_authors.append(author.split(',')[0])"
   ]
  },
  {
   "cell_type": "code",
   "execution_count": 193,
   "metadata": {},
   "outputs": [
    {
     "data": {
      "text/plain": [
       "['Kareem El-Badry',\n",
       " 'Hans-Walter Rix',\n",
       " 'Yvette Cendes',\n",
       " 'Antonio C. Rodriguez',\n",
       " 'Charlie Conroy',\n",
       " 'Eliot Quataert',\n",
       " 'Keith Hawkins',\n",
       " 'Eleonora Zari',\n",
       " 'Melissa Hobson',\n",
       " 'Katelyn Breivik',\n",
       " 'Arne Rau',\n",
       " 'Edo Berger',\n",
       " 'Sahar Shahaf',\n",
       " 'Rhys Seeburger',\n",
       " 'Kevin B. Burdge',\n",
       " 'David W. Latham',\n",
       " 'Lars A. Buchhave',\n",
       " 'Allyson Bieryla',\n",
       " 'Dolev Bashi',\n",
       " 'Tsevi Mazeh',\n",
       " 'Simchon Faigler']"
      ]
     },
     "execution_count": 193,
     "metadata": {},
     "output_type": "execute_result"
    }
   ],
   "source": [
    "list_authors"
   ]
  },
  {
   "cell_type": "code",
   "execution_count": 194,
   "metadata": {},
   "outputs": [],
   "source": [
    "comments = art[3].split('Comments:')[1].strip()"
   ]
  },
  {
   "cell_type": "code",
   "execution_count": 195,
   "metadata": {},
   "outputs": [],
   "source": [
    "subjects = art[4].split('Subjects:')[1].strip()"
   ]
  },
  {
   "cell_type": "code",
   "execution_count": 196,
   "metadata": {},
   "outputs": [],
   "source": [
    "abstract = art[5].replace('\\n',' ').strip()"
   ]
  },
  {
   "cell_type": "code",
   "execution_count": 197,
   "metadata": {},
   "outputs": [],
   "source": [
    "dict_art = {\n",
    "    'title': [],\n",
    "    'authors':[],\n",
    "    'comments':[],\n",
    "    'subjects':[],\n",
    "    'abstract':[]\n",
    "}"
   ]
  },
  {
   "cell_type": "code",
   "execution_count": 198,
   "metadata": {},
   "outputs": [
    {
     "ename": "IndexError",
     "evalue": "list index out of range",
     "output_type": "error",
     "traceback": [
      "\u001b[0;31m---------------------------------------------------------------------------\u001b[0m",
      "\u001b[0;31mIndexError\u001b[0m                                Traceback (most recent call last)",
      "Cell \u001b[0;32mIn[198], line 11\u001b[0m\n\u001b[1;32m      7\u001b[0m     dict_art[\u001b[39m'\u001b[39m\u001b[39mauthors\u001b[39m\u001b[39m'\u001b[39m]\u001b[39m.\u001b[39mappend(author\u001b[39m.\u001b[39msplit(\u001b[39m'\u001b[39m\u001b[39m,\u001b[39m\u001b[39m'\u001b[39m)[\u001b[39m0\u001b[39m])\n\u001b[1;32m      9\u001b[0m \u001b[39m#dict_art['comments'].append(art[3].split('Comments:')[1].strip())\u001b[39;00m\n\u001b[0;32m---> 11\u001b[0m dict_art[\u001b[39m'\u001b[39m\u001b[39msubjects\u001b[39m\u001b[39m'\u001b[39m]\u001b[39m.\u001b[39mappend(art[\u001b[39m4\u001b[39;49m]\u001b[39m.\u001b[39;49msplit(\u001b[39m'\u001b[39;49m\u001b[39mSubjects:\u001b[39;49m\u001b[39m'\u001b[39;49m)[\u001b[39m1\u001b[39;49m]\u001b[39m.\u001b[39mstrip())\n\u001b[1;32m     13\u001b[0m dict_art[\u001b[39m'\u001b[39m\u001b[39mabstract\u001b[39m\u001b[39m'\u001b[39m]\u001b[39m.\u001b[39mappend(art[\u001b[39m5\u001b[39m]\u001b[39m.\u001b[39mreplace(\u001b[39m'\u001b[39m\u001b[39m\\n\u001b[39;00m\u001b[39m'\u001b[39m,\u001b[39m'\u001b[39m\u001b[39m \u001b[39m\u001b[39m'\u001b[39m)\u001b[39m.\u001b[39mstrip())\n",
      "\u001b[0;31mIndexError\u001b[0m: list index out of range"
     ]
    }
   ],
   "source": [
    "\n",
    "for item in items:\n",
    "    art = item.text.split('\\n\\n')\n",
    "    dict_art['title'].append(art[1].split('Title:')[1].strip())\n",
    "\n",
    "    authors = art[2].split(\"Authors:\")[1].split('\\n')\n",
    "    for author in authors[1:]:\n",
    "        dict_art['authors'].append(author.split(',')[0])\n",
    "    \n",
    "    #dict_art['comments'].append(art[3].split('Comments:')[1].strip())\n",
    "\n",
    "    dict_art['subjects'].append(art[4].split('Subjects:')[1].strip())\n",
    "\n",
    "    dict_art['abstract'].append(art[5].replace('\\n',' ').strip())"
   ]
  },
  {
   "cell_type": "markdown",
   "metadata": {},
   "source": [
    "# Scrapping"
   ]
  },
  {
   "cell_type": "code",
   "execution_count": 199,
   "metadata": {},
   "outputs": [
    {
     "data": {
      "text/plain": [
       "'\\nTitle: A red giant orbiting a black hole\\n'"
      ]
     },
     "execution_count": 199,
     "metadata": {},
     "output_type": "execute_result"
    }
   ],
   "source": [
    "soup.findAll('div', {\"class\":\"list-title mathjax\"})[0].text"
   ]
  },
  {
   "cell_type": "code",
   "execution_count": 200,
   "metadata": {},
   "outputs": [],
   "source": [
    "titles = soup.findAll('div', {\"class\":\"list-title mathjax\"})\n",
    "list_titles = []\n",
    "for title in titles:\n",
    "    list_titles.append(title.text.split('Title: ')[1].strip())"
   ]
  },
  {
   "cell_type": "code",
   "execution_count": 201,
   "metadata": {},
   "outputs": [
    {
     "data": {
      "text/plain": [
       "17"
      ]
     },
     "execution_count": 201,
     "metadata": {},
     "output_type": "execute_result"
    }
   ],
   "source": [
    "len(titles)"
   ]
  },
  {
   "cell_type": "code",
   "execution_count": 202,
   "metadata": {},
   "outputs": [],
   "source": [
    "authors = soup.findAll('div', {\"class\":\"list-authors\"})"
   ]
  },
  {
   "cell_type": "code",
   "execution_count": 203,
   "metadata": {},
   "outputs": [
    {
     "name": "stdout",
     "output_type": "stream",
     "text": [
      "Kareem El-Badry\n",
      "Hans-Walter Rix\n",
      "Yvette Cendes\n",
      "Antonio C. Rodriguez\n",
      "Charlie Conroy\n",
      "Eliot Quataert\n",
      "Keith Hawkins\n",
      "Eleonora Zari\n",
      "Melissa Hobson\n",
      "Katelyn Breivik\n",
      "Arne Rau\n",
      "Edo Berger\n",
      "Sahar Shahaf\n",
      "Rhys Seeburger\n",
      "Kevin B. Burdge\n",
      "David W. Latham\n",
      "Lars A. Buchhave\n",
      "Allyson Bieryla\n",
      "Dolev Bashi\n",
      "Tsevi Mazeh\n",
      "Simchon Faigler\n"
     ]
    }
   ],
   "source": [
    "authors_art = authors[0].text.split('\\n')[2:-1]\n",
    "for author in authors_art:\n",
    "    print(author.split(',')[0].strip())"
   ]
  },
  {
   "cell_type": "code",
   "execution_count": 204,
   "metadata": {},
   "outputs": [],
   "source": [
    "cms = soup.findAll('div', {\"class\":\"list-comments mathjax\"})"
   ]
  },
  {
   "cell_type": "code",
   "execution_count": 205,
   "metadata": {},
   "outputs": [
    {
     "data": {
      "text/plain": [
       "'22 pages, 15 figures. Submitted to MNRAS'"
      ]
     },
     "execution_count": 205,
     "metadata": {},
     "output_type": "execute_result"
    }
   ],
   "source": [
    "cms[0].text.split('Comments:')[1].strip()"
   ]
  },
  {
   "cell_type": "code",
   "execution_count": 206,
   "metadata": {},
   "outputs": [],
   "source": [
    "subjects = soup.findAll('div', {\"class\":\"list-subjects\"})"
   ]
  },
  {
   "cell_type": "code",
   "execution_count": 207,
   "metadata": {},
   "outputs": [
    {
     "data": {
      "text/plain": [
       "'Solar and Stellar Astrophysics (astro-ph.SR); Astrophysics of Galaxies (astro-ph.GA)'"
      ]
     },
     "execution_count": 207,
     "metadata": {},
     "output_type": "execute_result"
    }
   ],
   "source": [
    "subjects[0].text.split('Subjects:')[1].strip()"
   ]
  },
  {
   "cell_type": "code",
   "execution_count": 208,
   "metadata": {},
   "outputs": [],
   "source": [
    "abstracts = soup.findAll('p', {\"class\":\"mathjax\"})"
   ]
  },
  {
   "cell_type": "code",
   "execution_count": 209,
   "metadata": {},
   "outputs": [
    {
     "data": {
      "text/plain": [
       "\"We report spectroscopic and photometric follow-up of a dormant black hole (BH) candidate from Gaia DR3. We show that the system, which we call Gaia BH2, contains a $\\\\sim 1M_{\\\\odot}$ red giant and a dark companion with mass $M_2 = 8.9\\\\pm 0.3\\\\,M_{\\\\odot}$ that is very likely a BH. The orbital period, $P_{\\\\rm orb} = 1277$ days, is much longer than that of any previously studied BH binary. Our radial velocity (RV) follow-up over a 6-month period spans most of the orbit's dynamic range in RV and is in excellent agreement with predictions of the Gaia solution. UV imaging and high-resolution optical spectra rule out all plausible luminous companions that could explain the orbit. The star is a bright ($G=12.3$), slightly metal-poor ($\\\\rm [Fe/H]=-0.22$) low-luminosity giant ($T_{\\\\rm eff}=4600\\\\,\\\\rm K$; $R = 7.9\\\\,R_{\\\\odot}$; $\\\\log\\\\left[g/\\\\left({\\\\rm cm\\\\,s^{-2}}\\\\right)\\\\right] = 2.6$). The binary's orbit is moderately eccentric ($e=0.52$). The giant is strongly enhanced in $\\\\alpha-$elements, with $\\\\rm [\\\\alpha/Fe] = +0.26$, but the system's Galactocentric orbit is typical of the thin disk. We obtained X-ray and radio nondetections of the source near periastron, which support BH accretion models in which the net accretion rate at the horizon is much lower than the Bondi-Hoyle-Lyttleton rate. At a distance of 1.16 kpc, Gaia BH2 is the second-nearest known BH, after Gaia BH1. Its orbit -- like that of Gaia BH1 -- seems too wide to have formed through common envelope evolution. Gaia BH1 and BH2 have orbital periods at opposite edges of the Gaia DR3 sensitivity curve, perhaps hinting at a bimodal intrinsic period distribution for wide BH binaries. Dormant BH binaries like Gaia BH1 and Gaia BH2 likely significantly outnumber their close, X-ray bright cousins, but their formation pathways remain uncertain.\""
      ]
     },
     "execution_count": 209,
     "metadata": {},
     "output_type": "execute_result"
    }
   ],
   "source": [
    "abstracts[0].text.replace('\\n', ' ').strip()"
   ]
  },
  {
   "cell_type": "code",
   "execution_count": 217,
   "metadata": {},
   "outputs": [],
   "source": [
    "dict_art = {\n",
    "    'title': [],\n",
    "    'authors':[],\n",
    "    'comment':[],\n",
    "    'subjects':[],\n",
    "    'abstract':[]\n",
    "}"
   ]
  },
  {
   "cell_type": "code",
   "execution_count": 218,
   "metadata": {},
   "outputs": [],
   "source": [
    "titles = soup.findAll('div', {\"class\":\"list-title mathjax\"})\n",
    "for title in titles:\n",
    "    dict_art['title'].append(title.text.split('Title: ')[1].strip())"
   ]
  },
  {
   "cell_type": "code",
   "execution_count": 224,
   "metadata": {},
   "outputs": [],
   "source": [
    "authors = soup.findAll('div', {\"class\":\"list-authors\"})\n",
    "for authors_art in authors:\n",
    "    authors_art = authors_art.text.split('\\n')[2:-1]\n",
    "    list_authors = []\n",
    "    for author in authors_art:\n",
    "        list_authors.append(author.split(',')[0].strip())\n",
    "    dict_art['authors'].append(list_authors)"
   ]
  },
  {
   "cell_type": "code",
   "execution_count": 226,
   "metadata": {},
   "outputs": [
    {
     "name": "stdout",
     "output_type": "stream",
     "text": [
      "13\n"
     ]
    }
   ],
   "source": [
    "comments = soup.findAll('div', {\"class\":\"list-comments mathjax\"})\n",
    "for comment in comments:\n",
    "          dict_art['comment'].append(comment.text.split('Comments:')[1].strip())"
   ]
  },
  {
   "cell_type": "code",
   "execution_count": 221,
   "metadata": {},
   "outputs": [],
   "source": [
    "subjects = soup.findAll('div', {\"class\":\"list-subjects\"})\n",
    "for subject in subjects:\n",
    "    dict_art['subjects'].append(subject.text.split('Subjects:')[1].strip())"
   ]
  },
  {
   "cell_type": "code",
   "execution_count": 222,
   "metadata": {},
   "outputs": [],
   "source": [
    "abstracts = soup.findAll('p', {\"class\":\"mathjax\"})\n",
    "for abstract in abstracts:\n",
    "    dict_art['abstract'].append(abstract.text.replace('\\n', ' ').strip())"
   ]
  },
  {
   "cell_type": "code",
   "execution_count": 223,
   "metadata": {},
   "outputs": [
    {
     "data": {
      "text/html": [
       "<div>\n",
       "<style scoped>\n",
       "    .dataframe tbody tr th:only-of-type {\n",
       "        vertical-align: middle;\n",
       "    }\n",
       "\n",
       "    .dataframe tbody tr th {\n",
       "        vertical-align: top;\n",
       "    }\n",
       "\n",
       "    .dataframe thead th {\n",
       "        text-align: right;\n",
       "    }\n",
       "</style>\n",
       "<table border=\"1\" class=\"dataframe\">\n",
       "  <thead>\n",
       "    <tr style=\"text-align: right;\">\n",
       "      <th></th>\n",
       "      <th>title</th>\n",
       "      <th>authors</th>\n",
       "      <th>comment</th>\n",
       "      <th>subjects</th>\n",
       "      <th>abstract</th>\n",
       "    </tr>\n",
       "  </thead>\n",
       "  <tbody>\n",
       "    <tr>\n",
       "      <th>0</th>\n",
       "      <td>A red giant orbiting a black hole</td>\n",
       "      <td>[Kareem El-Badry, Hans-Walter Rix, Yvette Cend...</td>\n",
       "      <td>22 pages, 15 figures. Submitted to MNRAS</td>\n",
       "      <td>Solar and Stellar Astrophysics (astro-ph.SR); ...</td>\n",
       "      <td>We report spectroscopic and photometric follow...</td>\n",
       "    </tr>\n",
       "    <tr>\n",
       "      <th>1</th>\n",
       "      <td>Observational Signatures of Carbon-Oxygen Whit...</td>\n",
       "      <td>[Philippe Z. Yao, Eliot Quataert, Andy Goulding]</td>\n",
       "      <td>12 pages, 8 figures, 2 tables, submitted to MNRAS</td>\n",
       "      <td>Solar and Stellar Astrophysics (astro-ph.SR); ...</td>\n",
       "      <td>Many double white dwarf (WD) mergers likely do...</td>\n",
       "    </tr>\n",
       "    <tr>\n",
       "      <th>2</th>\n",
       "      <td>The CARMENES search for exoplanets around M dw...</td>\n",
       "      <td>[M. Lafarga, I. Ribas, M. Zechmeister, A. Rein...</td>\n",
       "      <td>Accepted for publication in A&amp;A</td>\n",
       "      <td>Solar and Stellar Astrophysics (astro-ph.SR); ...</td>\n",
       "      <td>Radial velocities (RVs) measured from high-res...</td>\n",
       "    </tr>\n",
       "    <tr>\n",
       "      <th>3</th>\n",
       "      <td>The variability and radial velocity of planeta...</td>\n",
       "      <td>[A. Ali, A. Mindil]</td>\n",
       "      <td>9 pages, 1 figure, 3 tables</td>\n",
       "      <td>Solar and Stellar Astrophysics (astro-ph.SR); ...</td>\n",
       "      <td>The extremely accurate estimates of stellar va...</td>\n",
       "    </tr>\n",
       "    <tr>\n",
       "      <th>4</th>\n",
       "      <td>Slow wind belt in the quiet solar corona</td>\n",
       "      <td>[E. Antonucci, C. Downs, G. E. Capuano, D. Spa...</td>\n",
       "      <td>arXiv only posting, contact Greg Henry for acc...</td>\n",
       "      <td>Solar and Stellar Astrophysics (astro-ph.SR); ...</td>\n",
       "      <td>The slow solar wind belt in the quiet corona, ...</td>\n",
       "    </tr>\n",
       "    <tr>\n",
       "      <th>5</th>\n",
       "      <td>Temperature diagnostics of chromospheric fibrils</td>\n",
       "      <td>[M. Kriginsky, R. Oliver, D. Kuridze]</td>\n",
       "      <td>10 pages, 8 figures</td>\n",
       "      <td>Solar and Stellar Astrophysics (astro-ph.SR)</td>\n",
       "      <td>Context. Chromospheric fibrils are thin and el...</td>\n",
       "    </tr>\n",
       "    <tr>\n",
       "      <th>6</th>\n",
       "      <td>C14 Automatic Imaging Telescope Photometry of ...</td>\n",
       "      <td>[Gregory W. Henry, Jacob L. Bean]</td>\n",
       "      <td>13 pages, 4 figures</td>\n",
       "      <td>Earth and Planetary Astrophysics (astro-ph.EP)...</td>\n",
       "      <td>GJ1214b is the highest signal-to-noise sub-Nep...</td>\n",
       "    </tr>\n",
       "    <tr>\n",
       "      <th>7</th>\n",
       "      <td>Retrieval study of cool, directly imaged exopl...</td>\n",
       "      <td>[Niall Whiteford, Alistair Glasse, Katy L. Chu...</td>\n",
       "      <td>Accepted by MNRAS. Author accepted manuscript....</td>\n",
       "      <td>Earth and Planetary Astrophysics (astro-ph.EP)...</td>\n",
       "      <td>Retrieval methods are a powerful analysis tech...</td>\n",
       "    </tr>\n",
       "    <tr>\n",
       "      <th>8</th>\n",
       "      <td>Measurement of three-body chaotic absorptivity...</td>\n",
       "      <td>[Viraj Manwadkar, Alessandro Alberto Trani, Ba...</td>\n",
       "      <td>text 17 pages, 3 Tables, 8 Figures</td>\n",
       "      <td>Dynamical Systems (math.DS); Earth and Planeta...</td>\n",
       "      <td>The flux-based statistical theory of the non-h...</td>\n",
       "    </tr>\n",
       "    <tr>\n",
       "      <th>9</th>\n",
       "      <td>The effect of thermal non-equilibrium on kinet...</td>\n",
       "      <td>[Sven Kiefer, David Gobrecht, Leen Decin, Chri...</td>\n",
       "      <td>22 pages, 10 figures. Published in MNRAS</td>\n",
       "      <td>Earth and Planetary Astrophysics (astro-ph.EP)...</td>\n",
       "      <td>Nucleation is considered to be the first step ...</td>\n",
       "    </tr>\n",
       "    <tr>\n",
       "      <th>10</th>\n",
       "      <td>Observation of Alfven wave in ICME-HSS interac...</td>\n",
       "      <td>[Omkar Dhamane, Anil Raghav, Zubair Shaikh, Ut...</td>\n",
       "      <td>15 pages, 19 figures. Accepted in MNRAS. Comme...</td>\n",
       "      <td>Solar and Stellar Astrophysics (astro-ph.SR); ...</td>\n",
       "      <td>None</td>\n",
       "    </tr>\n",
       "    <tr>\n",
       "      <th>11</th>\n",
       "      <td>Dust survival rates in clumps passing through ...</td>\n",
       "      <td>[Florian Kirchschlager, Franziska D. Schmidt, ...</td>\n",
       "      <td>15 pages, 12 figures, accepted for publication...</td>\n",
       "      <td>Solar and Stellar Astrophysics (astro-ph.SR); ...</td>\n",
       "      <td>None</td>\n",
       "    </tr>\n",
       "    <tr>\n",
       "      <th>12</th>\n",
       "      <td>The Universality of Power Law Slopes in the So...</td>\n",
       "      <td>[Markus J. Aschwanden, Nived Vilangot Nhalil]</td>\n",
       "      <td>21 pages, 17 figures</td>\n",
       "      <td>Solar and Stellar Astrophysics (astro-ph.SR)</td>\n",
       "      <td>None</td>\n",
       "    </tr>\n",
       "    <tr>\n",
       "      <th>13</th>\n",
       "      <td>Evidence for an abundant old population of Gal...</td>\n",
       "      <td>[P. Beniamini, Z. Wadiasingh, J. Hare, K. Rajw...</td>\n",
       "      <td>None</td>\n",
       "      <td>High Energy Astrophysical Phenomena (astro-ph....</td>\n",
       "      <td>None</td>\n",
       "    </tr>\n",
       "    <tr>\n",
       "      <th>14</th>\n",
       "      <td>Lagrangian statistics of a shock-driven turbul...</td>\n",
       "      <td>[Justin Kin Jun Hew, Christoph Federrath]</td>\n",
       "      <td>None</td>\n",
       "      <td>Astrophysics of Galaxies (astro-ph.GA); High E...</td>\n",
       "      <td>None</td>\n",
       "    </tr>\n",
       "    <tr>\n",
       "      <th>15</th>\n",
       "      <td>Dynamical tides in Jupiter and other rotationa...</td>\n",
       "      <td>[Janosz W. Dewberry]</td>\n",
       "      <td>None</td>\n",
       "      <td>Earth and Planetary Astrophysics (astro-ph.EP)...</td>\n",
       "      <td>None</td>\n",
       "    </tr>\n",
       "    <tr>\n",
       "      <th>16</th>\n",
       "      <td>Stable three-dimensional (un)charged AdS grava...</td>\n",
       "      <td>[H. Barzegar, M. Bigdeli, G. H. Bordbar, B. Es...</td>\n",
       "      <td>None</td>\n",
       "      <td>General Relativity and Quantum Cosmology (gr-q...</td>\n",
       "      <td>None</td>\n",
       "    </tr>\n",
       "  </tbody>\n",
       "</table>\n",
       "</div>"
      ],
      "text/plain": [
       "                                                title  \\\n",
       "0                   A red giant orbiting a black hole   \n",
       "1   Observational Signatures of Carbon-Oxygen Whit...   \n",
       "2   The CARMENES search for exoplanets around M dw...   \n",
       "3   The variability and radial velocity of planeta...   \n",
       "4            Slow wind belt in the quiet solar corona   \n",
       "5    Temperature diagnostics of chromospheric fibrils   \n",
       "6   C14 Automatic Imaging Telescope Photometry of ...   \n",
       "7   Retrieval study of cool, directly imaged exopl...   \n",
       "8   Measurement of three-body chaotic absorptivity...   \n",
       "9   The effect of thermal non-equilibrium on kinet...   \n",
       "10  Observation of Alfven wave in ICME-HSS interac...   \n",
       "11  Dust survival rates in clumps passing through ...   \n",
       "12  The Universality of Power Law Slopes in the So...   \n",
       "13  Evidence for an abundant old population of Gal...   \n",
       "14  Lagrangian statistics of a shock-driven turbul...   \n",
       "15  Dynamical tides in Jupiter and other rotationa...   \n",
       "16  Stable three-dimensional (un)charged AdS grava...   \n",
       "\n",
       "                                              authors  \\\n",
       "0   [Kareem El-Badry, Hans-Walter Rix, Yvette Cend...   \n",
       "1    [Philippe Z. Yao, Eliot Quataert, Andy Goulding]   \n",
       "2   [M. Lafarga, I. Ribas, M. Zechmeister, A. Rein...   \n",
       "3                                 [A. Ali, A. Mindil]   \n",
       "4   [E. Antonucci, C. Downs, G. E. Capuano, D. Spa...   \n",
       "5               [M. Kriginsky, R. Oliver, D. Kuridze]   \n",
       "6                   [Gregory W. Henry, Jacob L. Bean]   \n",
       "7   [Niall Whiteford, Alistair Glasse, Katy L. Chu...   \n",
       "8   [Viraj Manwadkar, Alessandro Alberto Trani, Ba...   \n",
       "9   [Sven Kiefer, David Gobrecht, Leen Decin, Chri...   \n",
       "10  [Omkar Dhamane, Anil Raghav, Zubair Shaikh, Ut...   \n",
       "11  [Florian Kirchschlager, Franziska D. Schmidt, ...   \n",
       "12      [Markus J. Aschwanden, Nived Vilangot Nhalil]   \n",
       "13  [P. Beniamini, Z. Wadiasingh, J. Hare, K. Rajw...   \n",
       "14          [Justin Kin Jun Hew, Christoph Federrath]   \n",
       "15                               [Janosz W. Dewberry]   \n",
       "16  [H. Barzegar, M. Bigdeli, G. H. Bordbar, B. Es...   \n",
       "\n",
       "                                              comment  \\\n",
       "0            22 pages, 15 figures. Submitted to MNRAS   \n",
       "1   12 pages, 8 figures, 2 tables, submitted to MNRAS   \n",
       "2                     Accepted for publication in A&A   \n",
       "3                         9 pages, 1 figure, 3 tables   \n",
       "4   arXiv only posting, contact Greg Henry for acc...   \n",
       "5                                 10 pages, 8 figures   \n",
       "6                                 13 pages, 4 figures   \n",
       "7   Accepted by MNRAS. Author accepted manuscript....   \n",
       "8                  text 17 pages, 3 Tables, 8 Figures   \n",
       "9            22 pages, 10 figures. Published in MNRAS   \n",
       "10  15 pages, 19 figures. Accepted in MNRAS. Comme...   \n",
       "11  15 pages, 12 figures, accepted for publication...   \n",
       "12                               21 pages, 17 figures   \n",
       "13                                               None   \n",
       "14                                               None   \n",
       "15                                               None   \n",
       "16                                               None   \n",
       "\n",
       "                                             subjects  \\\n",
       "0   Solar and Stellar Astrophysics (astro-ph.SR); ...   \n",
       "1   Solar and Stellar Astrophysics (astro-ph.SR); ...   \n",
       "2   Solar and Stellar Astrophysics (astro-ph.SR); ...   \n",
       "3   Solar and Stellar Astrophysics (astro-ph.SR); ...   \n",
       "4   Solar and Stellar Astrophysics (astro-ph.SR); ...   \n",
       "5        Solar and Stellar Astrophysics (astro-ph.SR)   \n",
       "6   Earth and Planetary Astrophysics (astro-ph.EP)...   \n",
       "7   Earth and Planetary Astrophysics (astro-ph.EP)...   \n",
       "8   Dynamical Systems (math.DS); Earth and Planeta...   \n",
       "9   Earth and Planetary Astrophysics (astro-ph.EP)...   \n",
       "10  Solar and Stellar Astrophysics (astro-ph.SR); ...   \n",
       "11  Solar and Stellar Astrophysics (astro-ph.SR); ...   \n",
       "12       Solar and Stellar Astrophysics (astro-ph.SR)   \n",
       "13  High Energy Astrophysical Phenomena (astro-ph....   \n",
       "14  Astrophysics of Galaxies (astro-ph.GA); High E...   \n",
       "15  Earth and Planetary Astrophysics (astro-ph.EP)...   \n",
       "16  General Relativity and Quantum Cosmology (gr-q...   \n",
       "\n",
       "                                             abstract  \n",
       "0   We report spectroscopic and photometric follow...  \n",
       "1   Many double white dwarf (WD) mergers likely do...  \n",
       "2   Radial velocities (RVs) measured from high-res...  \n",
       "3   The extremely accurate estimates of stellar va...  \n",
       "4   The slow solar wind belt in the quiet corona, ...  \n",
       "5   Context. Chromospheric fibrils are thin and el...  \n",
       "6   GJ1214b is the highest signal-to-noise sub-Nep...  \n",
       "7   Retrieval methods are a powerful analysis tech...  \n",
       "8   The flux-based statistical theory of the non-h...  \n",
       "9   Nucleation is considered to be the first step ...  \n",
       "10                                               None  \n",
       "11                                               None  \n",
       "12                                               None  \n",
       "13                                               None  \n",
       "14                                               None  \n",
       "15                                               None  \n",
       "16                                               None  "
      ]
     },
     "execution_count": 223,
     "metadata": {},
     "output_type": "execute_result"
    }
   ],
   "source": [
    "pd.DataFrame.from_dict(dict_art, orient='index').T"
   ]
  },
  {
   "cell_type": "code",
   "execution_count": null,
   "metadata": {},
   "outputs": [],
   "source": []
  },
  {
   "cell_type": "code",
   "execution_count": null,
   "metadata": {},
   "outputs": [],
   "source": []
  }
 ],
 "metadata": {
  "kernelspec": {
   "display_name": "Python 3.10.8 64-bit",
   "language": "python",
   "name": "python3"
  },
  "language_info": {
   "codemirror_mode": {
    "name": "ipython",
    "version": 3
   },
   "file_extension": ".py",
   "mimetype": "text/x-python",
   "name": "python",
   "nbconvert_exporter": "python",
   "pygments_lexer": "ipython3",
   "version": "3.10.8"
  },
  "orig_nbformat": 4,
  "vscode": {
   "interpreter": {
    "hash": "e7370f93d1d0cde622a1f8e1c04877d8463912d04d973331ad4851f04de6915a"
   }
  }
 },
 "nbformat": 4,
 "nbformat_minor": 2
}
