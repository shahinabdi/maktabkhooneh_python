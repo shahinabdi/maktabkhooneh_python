{
 "cells": [
  {
   "cell_type": "code",
   "execution_count": 61,
   "metadata": {},
   "outputs": [],
   "source": [
    "import requests\n",
    "import pandas as pd\n",
    "from bs4 import BeautifulSoup"
   ]
  },
  {
   "cell_type": "code",
   "execution_count": 62,
   "metadata": {},
   "outputs": [],
   "source": [
    "url = \"https://arxiv.org/list/astro-ph.SR/new\""
   ]
  },
  {
   "cell_type": "code",
   "execution_count": 63,
   "metadata": {},
   "outputs": [],
   "source": [
    "res = requests.get(url)"
   ]
  },
  {
   "cell_type": "code",
   "execution_count": 64,
   "metadata": {},
   "outputs": [
    {
     "data": {
      "text/plain": [
       "<Response [200]>"
      ]
     },
     "execution_count": 64,
     "metadata": {},
     "output_type": "execute_result"
    }
   ],
   "source": [
    "res"
   ]
  },
  {
   "cell_type": "code",
   "execution_count": 65,
   "metadata": {},
   "outputs": [],
   "source": [
    "soup = BeautifulSoup(res.text, 'html.parser')"
   ]
  },
  {
   "cell_type": "code",
   "execution_count": 66,
   "metadata": {},
   "outputs": [],
   "source": [
    "items = soup.find_all(\"dd\")"
   ]
  },
  {
   "cell_type": "code",
   "execution_count": 67,
   "metadata": {},
   "outputs": [],
   "source": [
    "art = items[0].text.split('\\n\\n')"
   ]
  },
  {
   "cell_type": "code",
   "execution_count": 68,
   "metadata": {},
   "outputs": [
    {
     "data": {
      "text/plain": [
       "['',\n",
       " '\\nTitle: The SWAP Filter: A Simple Azimuthally-Varying Radial Filter for  Wide-Field EUV Solar Images',\n",
       " \"\\nAuthors:\\nDaniel B. Seaton, \\nDavid Berghmans, \\nAnik De Groof, \\nElke D'Huys, \\nBogdan Nicula, \\nLaurel A. Rachmeler, \\nMatthew J. West\",\n",
       " '\\nComments: Contact D. B. Seaton for animations referenced in figure captions',\n",
       " '\\nSubjects: Solar and Stellar Astrophysics (astro-ph.SR); Instrumentation and Methods for Astrophysics (astro-ph.IM)',\n",
       " \"\\nWe present the \\\\textit{SWAP Filter}: an azimuthally varying, radial\\nnormalizing filter specifically developed for EUV images of the solar corona.\\nWe discuss the origins of our technique, its implementation and key\\nuser-configurable parameters, and highlight its effects on data via a series of\\nexamples. We discuss the filter's strengths in a data environment in which wide\\nfield-of-view observations that specifically target the low signal-to-noise\\nmiddle corona are newly available and expected to grow in the coming years.\",\n",
       " '\\n']"
      ]
     },
     "execution_count": 68,
     "metadata": {},
     "output_type": "execute_result"
    }
   ],
   "source": [
    "art"
   ]
  },
  {
   "cell_type": "code",
   "execution_count": 69,
   "metadata": {},
   "outputs": [],
   "source": [
    "title = art[1].split('Title:')[1].strip()"
   ]
  },
  {
   "cell_type": "code",
   "execution_count": 70,
   "metadata": {},
   "outputs": [],
   "source": [
    "authors = art[2].split(\"Authors:\")[1].split('\\n')"
   ]
  },
  {
   "cell_type": "code",
   "execution_count": 71,
   "metadata": {},
   "outputs": [],
   "source": [
    "list_authors = list()\n",
    "for author in authors[1:]:\n",
    "    list_authors.append(author.split(',')[0])"
   ]
  },
  {
   "cell_type": "code",
   "execution_count": 72,
   "metadata": {},
   "outputs": [
    {
     "data": {
      "text/plain": [
       "['Daniel B. Seaton',\n",
       " 'David Berghmans',\n",
       " 'Anik De Groof',\n",
       " \"Elke D'Huys\",\n",
       " 'Bogdan Nicula',\n",
       " 'Laurel A. Rachmeler',\n",
       " 'Matthew J. West']"
      ]
     },
     "execution_count": 72,
     "metadata": {},
     "output_type": "execute_result"
    }
   ],
   "source": [
    "list_authors"
   ]
  },
  {
   "cell_type": "code",
   "execution_count": 73,
   "metadata": {},
   "outputs": [],
   "source": [
    "comments = art[3].split('Comments:')[1].strip()"
   ]
  },
  {
   "cell_type": "code",
   "execution_count": 74,
   "metadata": {},
   "outputs": [],
   "source": [
    "subjects = art[4].split('Subjects:')[1].strip()"
   ]
  },
  {
   "cell_type": "code",
   "execution_count": 75,
   "metadata": {},
   "outputs": [],
   "source": [
    "abstract = art[5].replace('\\n',' ').strip()"
   ]
  },
  {
   "cell_type": "code",
   "execution_count": 79,
   "metadata": {},
   "outputs": [],
   "source": [
    "dict_art = {\n",
    "    'title': [],\n",
    "    'authors':[],\n",
    "    'comments':[],\n",
    "    'subjects':[],\n",
    "    'abstract':[]\n",
    "}"
   ]
  },
  {
   "cell_type": "code",
   "execution_count": 80,
   "metadata": {},
   "outputs": [
    {
     "ename": "IndexError",
     "evalue": "list index out of range",
     "output_type": "error",
     "traceback": [
      "\u001b[0;31m---------------------------------------------------------------------------\u001b[0m",
      "\u001b[0;31mIndexError\u001b[0m                                Traceback (most recent call last)",
      "Cell \u001b[0;32mIn[80], line 11\u001b[0m\n\u001b[1;32m      7\u001b[0m     dict_art[\u001b[39m'\u001b[39m\u001b[39mauthors\u001b[39m\u001b[39m'\u001b[39m]\u001b[39m.\u001b[39mappend(author\u001b[39m.\u001b[39msplit(\u001b[39m'\u001b[39m\u001b[39m,\u001b[39m\u001b[39m'\u001b[39m)[\u001b[39m0\u001b[39m])\n\u001b[1;32m      9\u001b[0m \u001b[39m#dict_art['comments'].append(art[3].split('Comments:')[1].strip())\u001b[39;00m\n\u001b[0;32m---> 11\u001b[0m dict_art[\u001b[39m'\u001b[39m\u001b[39msubjects\u001b[39m\u001b[39m'\u001b[39m]\u001b[39m.\u001b[39mappend(art[\u001b[39m4\u001b[39;49m]\u001b[39m.\u001b[39;49msplit(\u001b[39m'\u001b[39;49m\u001b[39mSubjects:\u001b[39;49m\u001b[39m'\u001b[39;49m)[\u001b[39m1\u001b[39;49m]\u001b[39m.\u001b[39mstrip())\n\u001b[1;32m     13\u001b[0m dict_art[\u001b[39m'\u001b[39m\u001b[39mabstract\u001b[39m\u001b[39m'\u001b[39m]\u001b[39m.\u001b[39mappend(art[\u001b[39m5\u001b[39m]\u001b[39m.\u001b[39mreplace(\u001b[39m'\u001b[39m\u001b[39m\\n\u001b[39;00m\u001b[39m'\u001b[39m,\u001b[39m'\u001b[39m\u001b[39m \u001b[39m\u001b[39m'\u001b[39m)\u001b[39m.\u001b[39mstrip())\n",
      "\u001b[0;31mIndexError\u001b[0m: list index out of range"
     ]
    }
   ],
   "source": [
    "\n",
    "for item in items:\n",
    "    art = item.text.split('\\n\\n')\n",
    "    dict_art['title'].append(art[1].split('Title:')[1].strip())\n",
    "\n",
    "    authors = art[2].split(\"Authors:\")[1].split('\\n')\n",
    "    for author in authors[1:]:\n",
    "        dict_art['authors'].append(author.split(',')[0])\n",
    "    \n",
    "    #dict_art['comments'].append(art[3].split('Comments:')[1].strip())\n",
    "\n",
    "    dict_art['subjects'].append(art[4].split('Subjects:')[1].strip())\n",
    "\n",
    "    dict_art['abstract'].append(art[5].replace('\\n',' ').strip())"
   ]
  },
  {
   "cell_type": "markdown",
   "metadata": {},
   "source": [
    "# Scrapping"
   ]
  },
  {
   "cell_type": "code",
   "execution_count": 106,
   "metadata": {},
   "outputs": [
    {
     "data": {
      "text/plain": [
       "'\\nTitle: The SWAP Filter: A Simple Azimuthally-Varying Radial Filter for  Wide-Field EUV Solar Images\\n'"
      ]
     },
     "execution_count": 106,
     "metadata": {},
     "output_type": "execute_result"
    }
   ],
   "source": [
    "soup.findAll('div', {\"class\":\"list-title mathjax\"})[0].text"
   ]
  },
  {
   "cell_type": "code",
   "execution_count": 111,
   "metadata": {},
   "outputs": [],
   "source": [
    "titles = soup.findAll('div', {\"class\":\"list-title mathjax\"})\n",
    "list_titles = []\n",
    "for title in titles:\n",
    "    list_titles.append(title.text.split('Title: ')[1].strip())"
   ]
  },
  {
   "cell_type": "code",
   "execution_count": 112,
   "metadata": {},
   "outputs": [
    {
     "data": {
      "text/plain": [
       "28"
      ]
     },
     "execution_count": 112,
     "metadata": {},
     "output_type": "execute_result"
    }
   ],
   "source": [
    "len(titles)"
   ]
  },
  {
   "cell_type": "code",
   "execution_count": 113,
   "metadata": {},
   "outputs": [],
   "source": [
    "authors = soup.findAll('div', {\"class\":\"list-authors\"})"
   ]
  },
  {
   "cell_type": "code",
   "execution_count": 121,
   "metadata": {},
   "outputs": [
    {
     "name": "stdout",
     "output_type": "stream",
     "text": [
      "Daniel B. Seaton\n",
      "David Berghmans\n",
      "Anik De Groof\n",
      "Elke D'Huys\n",
      "Bogdan Nicula\n",
      "Laurel A. Rachmeler\n",
      "Matthew J. West\n"
     ]
    }
   ],
   "source": [
    "authors_art = authors[0].text.split('\\n')[2:-1]\n",
    "for author in authors_art:\n",
    "    print(author.split(',')[0].strip())"
   ]
  },
  {
   "cell_type": "code",
   "execution_count": 122,
   "metadata": {},
   "outputs": [],
   "source": [
    "cms = soup.findAll('div', {\"class\":\"list-comments mathjax\"})"
   ]
  },
  {
   "cell_type": "code",
   "execution_count": 129,
   "metadata": {},
   "outputs": [
    {
     "data": {
      "text/plain": [
       "'Contact D. B. Seaton for animations referenced in figure captions'"
      ]
     },
     "execution_count": 129,
     "metadata": {},
     "output_type": "execute_result"
    }
   ],
   "source": [
    "cms[0].text.split('Comments:')[1].strip()"
   ]
  },
  {
   "cell_type": "code",
   "execution_count": 130,
   "metadata": {},
   "outputs": [],
   "source": [
    "subjects = soup.findAll('div', {\"class\":\"list-subjects\"})"
   ]
  },
  {
   "cell_type": "code",
   "execution_count": 134,
   "metadata": {},
   "outputs": [
    {
     "data": {
      "text/plain": [
       "'Solar and Stellar Astrophysics (astro-ph.SR); Instrumentation and Methods for Astrophysics (astro-ph.IM)'"
      ]
     },
     "execution_count": 134,
     "metadata": {},
     "output_type": "execute_result"
    }
   ],
   "source": [
    "subjects[0].text.split('Subjects:')[1].strip()"
   ]
  },
  {
   "cell_type": "code",
   "execution_count": 135,
   "metadata": {},
   "outputs": [],
   "source": [
    "abstracts = soup.findAll('p', {\"class\":\"mathjax\"})"
   ]
  },
  {
   "cell_type": "code",
   "execution_count": 140,
   "metadata": {},
   "outputs": [
    {
     "data": {
      "text/plain": [
       "\"We present the \\\\textit{SWAP Filter}: an azimuthally varying, radial normalizing filter specifically developed for EUV images of the solar corona. We discuss the origins of our technique, its implementation and key user-configurable parameters, and highlight its effects on data via a series of examples. We discuss the filter's strengths in a data environment in which wide field-of-view observations that specifically target the low signal-to-noise middle corona are newly available and expected to grow in the coming years.\""
      ]
     },
     "execution_count": 140,
     "metadata": {},
     "output_type": "execute_result"
    }
   ],
   "source": [
    "abstracts[0].text.replace('\\n', ' ').strip()"
   ]
  },
  {
   "cell_type": "code",
   "execution_count": 164,
   "metadata": {},
   "outputs": [],
   "source": [
    "dict_art = {\n",
    "    'title': [],\n",
    "    'authors':[],\n",
    "    'comments':[],\n",
    "    'subjects':[],\n",
    "    'abstract':[]\n",
    "}"
   ]
  },
  {
   "cell_type": "code",
   "execution_count": 165,
   "metadata": {},
   "outputs": [],
   "source": [
    "titles = soup.findAll('div', {\"class\":\"list-title mathjax\"})\n",
    "for title in titles:\n",
    "    dict_art['title'].append(title.text.split('Title: ')[1].strip())"
   ]
  },
  {
   "cell_type": "code",
   "execution_count": 166,
   "metadata": {},
   "outputs": [],
   "source": [
    "authors = soup.findAll('div', {\"class\":\"list-authors\"})\n",
    "for authors_art in authors:\n",
    "    authors_art = authors_art.text.split('\\n')[2:-1]\n",
    "    list_authors = []\n",
    "    for author in authors_art:\n",
    "        list_authors.append(author.split(',')[0].strip())\n",
    "    dict_art['authors'].append(list_authors)"
   ]
  },
  {
   "cell_type": "code",
   "execution_count": 169,
   "metadata": {},
   "outputs": [],
   "source": [
    "comments = soup.findAll('div', {\"class\":\"list-comments mathjax\"})\n",
    "for comment in comments:\n",
    "     dict_art['comments'].append(comment.text.split('Comments:')[1].strip())"
   ]
  },
  {
   "cell_type": "code",
   "execution_count": null,
   "metadata": {},
   "outputs": [],
   "source": [
    "subjects = soup.findAll('div', {\"class\":\"list-subjects\"})\n",
    "for subject in subjects:\n",
    "    dict_art['subjects'].append(subject.text.split('Subjects:')[1].strip())"
   ]
  },
  {
   "cell_type": "code",
   "execution_count": null,
   "metadata": {},
   "outputs": [],
   "source": [
    "abstracts = soup.findAll('p', {\"class\":\"mathjax\"})\n",
    "for abstract in abstracts:\n",
    "    dict_art['subjects'].append(abstract.text.replace('\\n', ' ').strip())"
   ]
  }
 ],
 "metadata": {
  "kernelspec": {
   "display_name": "Python 3.10.8 ('venv': venv)",
   "language": "python",
   "name": "python3"
  },
  "language_info": {
   "codemirror_mode": {
    "name": "ipython",
    "version": 3
   },
   "file_extension": ".py",
   "mimetype": "text/x-python",
   "name": "python",
   "nbconvert_exporter": "python",
   "pygments_lexer": "ipython3",
   "version": "3.10.8"
  },
  "orig_nbformat": 4,
  "vscode": {
   "interpreter": {
    "hash": "98a1b2087f69d1ce7616567ade31da89bf4465c943847a36cab77df4090542ec"
   }
  }
 },
 "nbformat": 4,
 "nbformat_minor": 2
}
